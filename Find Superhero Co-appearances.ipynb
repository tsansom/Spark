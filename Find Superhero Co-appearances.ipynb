{
 "cells": [
  {
   "cell_type": "code",
   "execution_count": 1,
   "metadata": {
    "collapsed": true
   },
   "outputs": [],
   "source": [
    "import findspark\n",
    "findspark.init()"
   ]
  },
  {
   "cell_type": "code",
   "execution_count": 2,
   "metadata": {
    "collapsed": true
   },
   "outputs": [],
   "source": [
    "import pyspark"
   ]
  },
  {
   "cell_type": "code",
   "execution_count": 3,
   "metadata": {
    "collapsed": true
   },
   "outputs": [],
   "source": [
    "spark = pyspark.sql.SparkSession.builder.appName('HeroAppearances').getOrCreate()"
   ]
  },
  {
   "cell_type": "code",
   "execution_count": 4,
   "metadata": {},
   "outputs": [
    {
     "name": "stdout",
     "output_type": "stream",
     "text": [
      "+------+--------------------+\n",
      "|heroId|            heroName|\n",
      "+------+--------------------+\n",
      "|    1 |24-HOUR MAN/EMMANUEL|\n",
      "|    2 |3-D MAN/CHARLES CHAN|\n",
      "|    3 |    4-D MAN/MERCURIO|\n",
      "|    4 |             8-BALL/|\n",
      "|    5 |                   A|\n",
      "+------+--------------------+\n",
      "only showing top 5 rows\n",
      "\n"
     ]
    }
   ],
   "source": [
    "heroNames = spark.read.csv('old/Marvel-Names.txt', sep='\\\"')\n",
    "heroNames = heroNames.drop('_c2')\n",
    "heroNames = heroNames.withColumnRenamed('_c0','heroId')\n",
    "heroNames = heroNames.withColumnRenamed('_c1', 'heroName')\n",
    "heroNames.show(5)"
   ]
  },
  {
   "cell_type": "code",
   "execution_count": 5,
   "metadata": {},
   "outputs": [
    {
     "name": "stdout",
     "output_type": "stream",
     "text": [
      "+------+--------------------+\n",
      "|heroId|            heroName|\n",
      "+------+--------------------+\n",
      "|    1 |24-HOUR MAN/EMMANUEL|\n",
      "|    2 |3-D MAN/CHARLES CHAN|\n",
      "|    3 |    4-D MAN/MERCURIO|\n",
      "|    4 |             8-BALL/|\n",
      "|    5 |                   A|\n",
      "+------+--------------------+\n",
      "only showing top 5 rows\n",
      "\n"
     ]
    }
   ],
   "source": [
    "#Just another way to do the same thing as above\n",
    "heroNames2 = spark.read.csv('old/Marvel-Names.txt', sep='\\\"')\n",
    "heroNames2 = heroNames2.selectExpr('_c0 as heroId', '_c1 as heroName')\n",
    "heroNames2.show(5)"
   ]
  },
  {
   "cell_type": "code",
   "execution_count": 6,
   "metadata": {},
   "outputs": [
    {
     "name": "stdout",
     "output_type": "stream",
     "text": [
      "+--------------------+\n",
      "|              occurs|\n",
      "+--------------------+\n",
      "|[5988, 748, 1722,...|\n",
      "|[5989, 4080, 4264...|\n",
      "|[5982, 217, 595, ...|\n",
      "|[5983, 1165, 3836...|\n",
      "|[5980, 2731, 3712...|\n",
      "+--------------------+\n",
      "only showing top 5 rows\n",
      "\n"
     ]
    }
   ],
   "source": [
    "occurs = spark.read.csv('old/Marvel-Graph.txt', sep='|')\n",
    "occurs = occurs.withColumnRenamed('_c0', 'occurs')\n",
    "occursSplit = pyspark.sql.functions.split(occurs.occurs, ' ')\n",
    "occurs = occurs.withColumn('occurs', occursSplit)\n",
    "occurs.show(5)"
   ]
  },
  {
   "cell_type": "code",
   "execution_count": 7,
   "metadata": {
    "collapsed": true
   },
   "outputs": [],
   "source": [
    "targetId = 5020 \n",
    "#can't pass a single variable to a udf, need to create a column of literal values\n",
    "targetCol = pyspark.sql.functions.lit(str(targetId))"
   ]
  },
  {
   "cell_type": "code",
   "execution_count": 8,
   "metadata": {
    "collapsed": true
   },
   "outputs": [],
   "source": [
    "def findTarget(line, targetCol):\n",
    "    return line.count(targetCol)\n",
    "udfFindTarget = pyspark.sql.functions.udf(findTarget)"
   ]
  },
  {
   "cell_type": "code",
   "execution_count": 9,
   "metadata": {},
   "outputs": [
    {
     "name": "stdout",
     "output_type": "stream",
     "text": [
      "+--------------------+------------+\n",
      "|              occurs|targetOccurs|\n",
      "+--------------------+------------+\n",
      "|[5988, 748, 1722,...|           0|\n",
      "|[5989, 4080, 4264...|           0|\n",
      "|[5982, 217, 595, ...|           0|\n",
      "|[5983, 1165, 3836...|           0|\n",
      "|[5980, 2731, 3712...|           0|\n",
      "+--------------------+------------+\n",
      "only showing top 5 rows\n",
      "\n"
     ]
    }
   ],
   "source": [
    "occurs = occurs.withColumn('targetOccurs', udfFindTarget('occurs', targetCol).cast('integer'))\n",
    "occurs.show(5)"
   ]
  },
  {
   "cell_type": "code",
   "execution_count": 10,
   "metadata": {
    "collapsed": true
   },
   "outputs": [],
   "source": [
    "targetSum = occurs.groupBy().sum('targetOccurs').collect()[0][0]\n",
    "targetHero = heroNames.where(heroNames.heroId == targetId).select('heroName').collect()[0][0]"
   ]
  },
  {
   "cell_type": "code",
   "execution_count": 11,
   "metadata": {},
   "outputs": [
    {
     "name": "stdout",
     "output_type": "stream",
     "text": [
      "SHANGA has 27 co-appearances\n"
     ]
    }
   ],
   "source": [
    "print('{0} has {1} co-appearances'.format(targetHero, targetSum))"
   ]
  },
  {
   "cell_type": "code",
   "execution_count": null,
   "metadata": {
    "collapsed": true
   },
   "outputs": [],
   "source": [
    "spark.stop()"
   ]
  }
 ],
 "metadata": {
  "kernelspec": {
   "display_name": "Python 3",
   "language": "python",
   "name": "python3"
  },
  "language_info": {
   "codemirror_mode": {
    "name": "ipython",
    "version": 3
   },
   "file_extension": ".py",
   "mimetype": "text/x-python",
   "name": "python",
   "nbconvert_exporter": "python",
   "pygments_lexer": "ipython3",
   "version": "3.5.2"
  }
 },
 "nbformat": 4,
 "nbformat_minor": 2
}
