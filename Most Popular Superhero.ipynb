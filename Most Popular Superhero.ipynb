{
 "cells": [
  {
   "cell_type": "code",
   "execution_count": 1,
   "metadata": {
    "collapsed": true
   },
   "outputs": [],
   "source": [
    "import findspark\n",
    "findspark.init()"
   ]
  },
  {
   "cell_type": "code",
   "execution_count": 2,
   "metadata": {
    "collapsed": true
   },
   "outputs": [],
   "source": [
    "import pyspark"
   ]
  },
  {
   "cell_type": "code",
   "execution_count": 3,
   "metadata": {
    "collapsed": true
   },
   "outputs": [],
   "source": [
    "spark = pyspark.sql.SparkSession.builder.appName('MostPopularHero').getOrCreate()"
   ]
  },
  {
   "cell_type": "code",
   "execution_count": 4,
   "metadata": {},
   "outputs": [
    {
     "name": "stdout",
     "output_type": "stream",
     "text": [
      "+------+--------------------+\n",
      "|heroId|            heroName|\n",
      "+------+--------------------+\n",
      "|    1 |24-HOUR MAN/EMMANUEL|\n",
      "|    2 |3-D MAN/CHARLES CHAN|\n",
      "|    3 |    4-D MAN/MERCURIO|\n",
      "|    4 |             8-BALL/|\n",
      "|    5 |                   A|\n",
      "+------+--------------------+\n",
      "only showing top 5 rows\n",
      "\n"
     ]
    }
   ],
   "source": [
    "heroNames = spark.read.csv('old/Marvel-Names.txt', sep='\\\"')\n",
    "heroNames = heroNames.selectExpr('_c0 as heroId', '_c1 as heroName')\n",
    "heroNames.show(5)"
   ]
  },
  {
   "cell_type": "code",
   "execution_count": 8,
   "metadata": {},
   "outputs": [
    {
     "name": "stdout",
     "output_type": "stream",
     "text": [
      "+--------------------+\n",
      "|              occurs|\n",
      "+--------------------+\n",
      "|[5988, 748, 1722,...|\n",
      "|[5989, 4080, 4264...|\n",
      "|[5982, 217, 595, ...|\n",
      "|[5983, 1165, 3836...|\n",
      "|[5980, 2731, 3712...|\n",
      "+--------------------+\n",
      "only showing top 5 rows\n",
      "\n"
     ]
    },
    {
     "data": {
      "text/plain": [
       "6589"
      ]
     },
     "execution_count": 8,
     "metadata": {},
     "output_type": "execute_result"
    }
   ],
   "source": [
    "occurs = spark.read.csv('old/Marvel-Graph.txt', sep='|')\n",
    "occurs = occurs.withColumnRenamed('_c0', 'occurs')\n",
    "occursSplit = pyspark.sql.functions.split(occurs.occurs, ' ')\n",
    "occurs = occurs.withColumn('occurs', occursSplit)\n",
    "occurs.show(5)\n",
    "occurs.count()"
   ]
  },
  {
   "cell_type": "code",
   "execution_count": 9,
   "metadata": {},
   "outputs": [
    {
     "name": "stdout",
     "output_type": "stream",
     "text": [
      "+------+\n",
      "|heroId|\n",
      "+------+\n",
      "|  5988|\n",
      "|   748|\n",
      "|  1722|\n",
      "|  3752|\n",
      "|  4655|\n",
      "+------+\n",
      "only showing top 5 rows\n",
      "\n"
     ]
    }
   ],
   "source": [
    "occursExploded = pyspark.sql.functions.explode(occurs.occurs)\n",
    "occurs = occurs.withColumn('heroId', occursExploded)\n",
    "occurs = occurs.drop('occurs')\n",
    "occurs = occurs.where(occurs.heroId != '')\n",
    "occurs.show(5)"
   ]
  },
  {
   "cell_type": "code",
   "execution_count": 10,
   "metadata": {},
   "outputs": [
    {
     "name": "stdout",
     "output_type": "stream",
     "text": [
      "+------+-----+\n",
      "|heroId|count|\n",
      "+------+-----+\n",
      "|  2069|  264|\n",
      "|  3210|  119|\n",
      "|   829|   38|\n",
      "|  6194|   15|\n",
      "|  4821|   17|\n",
      "+------+-----+\n",
      "only showing top 5 rows\n",
      "\n"
     ]
    }
   ],
   "source": [
    "heroOccurs = occurs.groupby('heroId').count()\n",
    "heroOccurs = heroOccurs.withColumn('heroId', heroOccurs.heroId.cast('integer'))\n",
    "heroOccurs.show(5)"
   ]
  },
  {
   "cell_type": "code",
   "execution_count": 11,
   "metadata": {},
   "outputs": [
    {
     "name": "stdout",
     "output_type": "stream",
     "text": [
      "+------+--------------------+-----+\n",
      "|heroId|            heroName|count|\n",
      "+------+--------------------+-----+\n",
      "|  859 |     CAPTAIN AMERICA| 1937|\n",
      "| 5306 |SPIDER-MAN/PETER PAR| 1745|\n",
      "| 2664 |IRON MAN/TONY STARK | 1532|\n",
      "| 5716 |THING/BENJAMIN J. GR| 1429|\n",
      "| 6306 |    WOLVERINE/LOGAN | 1397|\n",
      "+------+--------------------+-----+\n",
      "only showing top 5 rows\n",
      "\n"
     ]
    }
   ],
   "source": [
    "heroNames.join(heroOccurs, 'heroId').orderBy('count', ascending=False).show(5)"
   ]
  },
  {
   "cell_type": "code",
   "execution_count": null,
   "metadata": {
    "collapsed": true
   },
   "outputs": [],
   "source": [
    "spark.stop()"
   ]
  }
 ],
 "metadata": {
  "kernelspec": {
   "display_name": "Python 3",
   "language": "python",
   "name": "python3"
  },
  "language_info": {
   "codemirror_mode": {
    "name": "ipython",
    "version": 3
   },
   "file_extension": ".py",
   "mimetype": "text/x-python",
   "name": "python",
   "nbconvert_exporter": "python",
   "pygments_lexer": "ipython3",
   "version": "3.5.2"
  }
 },
 "nbformat": 4,
 "nbformat_minor": 2
}
