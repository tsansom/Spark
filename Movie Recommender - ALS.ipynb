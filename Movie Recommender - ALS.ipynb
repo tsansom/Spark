{
 "cells": [
  {
   "cell_type": "code",
   "execution_count": 47,
   "metadata": {
    "collapsed": true
   },
   "outputs": [],
   "source": [
    "import findspark\n",
    "findspark.init()\n",
    "import pyspark\n",
    "import pyspark.sql.functions as F"
   ]
  },
  {
   "cell_type": "code",
   "execution_count": 2,
   "metadata": {
    "collapsed": true
   },
   "outputs": [],
   "source": [
    "from pyspark.ml.recommendation import ALS"
   ]
  },
  {
   "cell_type": "code",
   "execution_count": 3,
   "metadata": {
    "collapsed": true
   },
   "outputs": [],
   "source": [
    "spark = pyspark.sql.SparkSession.builder.appName('ALSRecommender').getOrCreate()"
   ]
  },
  {
   "cell_type": "code",
   "execution_count": 10,
   "metadata": {
    "collapsed": true
   },
   "outputs": [],
   "source": [
    "movies = spark.read.csv('ml100/movies.csv', header=True, inferSchema=True)\n",
    "ratings = spark.read.csv('ml100/ratings.csv', header=True, inferSchema=True)\n",
    "ratings = ratings.drop('timestamp')"
   ]
  },
  {
   "cell_type": "code",
   "execution_count": 25,
   "metadata": {
    "collapsed": true
   },
   "outputs": [],
   "source": [
    "als = ALS(rank=10, maxIter=10, regParam=0.01,\n",
    "         userCol='userId', itemCol='movieId', ratingCol='rating')"
   ]
  },
  {
   "cell_type": "code",
   "execution_count": 27,
   "metadata": {
    "collapsed": true
   },
   "outputs": [],
   "source": [
    "model=als.fit(ratings)"
   ]
  },
  {
   "cell_type": "code",
   "execution_count": 88,
   "metadata": {},
   "outputs": [
    {
     "name": "stdout",
     "output_type": "stream",
     "text": [
      "Target user's top rated movies:\n",
      "+-----------------------------------------+------+\n",
      "|title                                    |rating|\n",
      "+-----------------------------------------+------+\n",
      "|Usual Suspects, The (1995)               |5.0   |\n",
      "|Braveheart (1995)                        |5.0   |\n",
      "|Pulp Fiction (1994)                      |5.0   |\n",
      "|Shawshank Redemption, The (1994)         |5.0   |\n",
      "|Jurassic Park (1993)                     |5.0   |\n",
      "|Silence of the Lambs, The (1991)         |5.0   |\n",
      "|Snow White and the Seven Dwarfs (1937)   |5.0   |\n",
      "|Get Shorty (1995)                        |4.0   |\n",
      "|Twelve Monkeys (a.k.a. 12 Monkeys) (1995)|4.0   |\n",
      "|Babe (1995)                              |4.0   |\n",
      "+-----------------------------------------+------+\n",
      "\n"
     ]
    }
   ],
   "source": [
    "targetUser = 400\n",
    "print('Target user\\'s top rated movies:')\n",
    "(ratings.where(ratings.userId == targetUser)\n",
    "        .orderBy('rating', ascending=False)\n",
    "        .join(movies, 'movieId')\n",
    "        .select('title', 'rating')\n",
    "        .limit(10)\n",
    "        .show(truncate=False))"
   ]
  },
  {
   "cell_type": "code",
   "execution_count": 89,
   "metadata": {
    "collapsed": true
   },
   "outputs": [],
   "source": [
    "#create a new dataframe for the target user with all movieIds\n",
    "targetUserMovies = movies.withColumn('userId', F.lit(targetUser)).select('userId', 'movieId')"
   ]
  },
  {
   "cell_type": "markdown",
   "metadata": {},
   "source": [
    "### Make predictions for each movie in the list\n",
    "There are some movies that don't have any common ratings\n",
    "* They will be predicted as NaNs, need to drop them"
   ]
  },
  {
   "cell_type": "code",
   "execution_count": 90,
   "metadata": {
    "collapsed": true
   },
   "outputs": [],
   "source": [
    "predictions = model.transform(targetUserMovies).dropna()"
   ]
  },
  {
   "cell_type": "code",
   "execution_count": 91,
   "metadata": {},
   "outputs": [
    {
     "name": "stdout",
     "output_type": "stream",
     "text": [
      "+----------------------------------------------------------------------------+----------+\n",
      "|title                                                                       |prediction|\n",
      "+----------------------------------------------------------------------------+----------+\n",
      "|Guess Who's Coming to Dinner (1967)                                         |6.0110803 |\n",
      "|We Were Soldiers (2002)                                                     |5.9780645 |\n",
      "|Storytelling (2001)                                                         |5.8024335 |\n",
      "|Farewell My Concubine (Ba wang bie ji) (1993)                               |5.700131  |\n",
      "|Cops (1922)                                                                 |5.632817  |\n",
      "|Play House, The (1921)                                                      |5.632817  |\n",
      "|Land of Silence and Darkness (Land des Schweigens und der Dunkelheit) (1971)|5.632817  |\n",
      "|Goat, The (1921)                                                            |5.632817  |\n",
      "|The Fault in Our Stars (2014)                                               |5.5811505 |\n",
      "|Julie & Julia (2009)                                                        |5.551616  |\n",
      "+----------------------------------------------------------------------------+----------+\n",
      "only showing top 10 rows\n",
      "\n"
     ]
    }
   ],
   "source": [
    "(predictions.join(movies, 'movieId')\n",
    "            .select('title', 'prediction')\n",
    "            .orderBy('prediction', ascending=False)\n",
    "            .show(10, truncate=False))"
   ]
  },
  {
   "cell_type": "code",
   "execution_count": null,
   "metadata": {
    "collapsed": true
   },
   "outputs": [],
   "source": [
    "spark.stop()"
   ]
  }
 ],
 "metadata": {
  "kernelspec": {
   "display_name": "Python 3",
   "language": "python",
   "name": "python3"
  },
  "language_info": {
   "codemirror_mode": {
    "name": "ipython",
    "version": 3
   },
   "file_extension": ".py",
   "mimetype": "text/x-python",
   "name": "python",
   "nbconvert_exporter": "python",
   "pygments_lexer": "ipython3",
   "version": "3.5.2"
  }
 },
 "nbformat": 4,
 "nbformat_minor": 2
}
