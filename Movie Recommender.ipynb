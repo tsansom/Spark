{
 "cells": [
  {
   "cell_type": "code",
   "execution_count": 1,
   "metadata": {
    "collapsed": true
   },
   "outputs": [],
   "source": [
    "import findspark\n",
    "findspark.init()\n",
    "import pyspark\n",
    "import pyspark.sql.functions as F"
   ]
  },
  {
   "cell_type": "code",
   "execution_count": 2,
   "metadata": {
    "collapsed": true
   },
   "outputs": [],
   "source": [
    "spark = pyspark.sql.SparkSession.builder.appName('MovieRecommender').getOrCreate()"
   ]
  },
  {
   "cell_type": "code",
   "execution_count": 3,
   "metadata": {
    "collapsed": true
   },
   "outputs": [],
   "source": [
    "movies = spark.read.csv('data/ml100/movies.csv', header=True)\n",
    "movies = movies.drop('genres')\n",
    "ratings = spark.read.csv('data/ml100/ratings.csv', header=True, inferSchema=True)\n",
    "ratings = ratings.drop('timestamp')"
   ]
  },
  {
   "cell_type": "code",
   "execution_count": 4,
   "metadata": {},
   "outputs": [
    {
     "name": "stdout",
     "output_type": "stream",
     "text": [
      "+-------+--------------------+\n",
      "|movieId|               title|\n",
      "+-------+--------------------+\n",
      "|      1|    Toy Story (1995)|\n",
      "|      2|      Jumanji (1995)|\n",
      "|      3|Grumpier Old Men ...|\n",
      "|      4|Waiting to Exhale...|\n",
      "|      5|Father of the Bri...|\n",
      "+-------+--------------------+\n",
      "only showing top 5 rows\n",
      "\n",
      "+------+-------+------+\n",
      "|userId|movieId|rating|\n",
      "+------+-------+------+\n",
      "|     1|     31|   2.5|\n",
      "|     1|   1029|   3.0|\n",
      "|     1|   1061|   3.0|\n",
      "|     1|   1129|   2.0|\n",
      "|     1|   1172|   4.0|\n",
      "+------+-------+------+\n",
      "only showing top 5 rows\n",
      "\n"
     ]
    }
   ],
   "source": [
    "movies.show(5)\n",
    "ratings.show(5)"
   ]
  },
  {
   "cell_type": "code",
   "execution_count": 5,
   "metadata": {},
   "outputs": [
    {
     "name": "stdout",
     "output_type": "stream",
     "text": [
      "+------+-------+------+--------+-------+\n",
      "|userId|movieId|rating|_movieId|_rating|\n",
      "+------+-------+------+--------+-------+\n",
      "|     1|     31|   2.5|    3671|    3.0|\n",
      "|     1|     31|   2.5|    2968|    1.0|\n",
      "|     1|     31|   2.5|    2455|    2.5|\n",
      "|     1|     31|   2.5|    2294|    2.0|\n",
      "|     1|     31|   2.5|    2193|    2.0|\n",
      "+------+-------+------+--------+-------+\n",
      "only showing top 5 rows\n",
      "\n"
     ]
    }
   ],
   "source": [
    "joinedRatings = ratings.join(ratings\n",
    "                             .withColumnRenamed('movieId', '_movieId')\n",
    "                             .withColumnRenamed('rating', '_rating')\n",
    "                             , 'userId')\n",
    "joinedRatings.show(5)"
   ]
  },
  {
   "cell_type": "code",
   "execution_count": 6,
   "metadata": {},
   "outputs": [
    {
     "name": "stdout",
     "output_type": "stream",
     "text": [
      "+------+-------+------+--------+-------+\n",
      "|userId|movieId|rating|_movieId|_rating|\n",
      "+------+-------+------+--------+-------+\n",
      "|     1|     31|   2.5|    3671|    3.0|\n",
      "|     1|     31|   2.5|    2968|    1.0|\n",
      "|     1|     31|   2.5|    2455|    2.5|\n",
      "|     1|     31|   2.5|    2294|    2.0|\n",
      "|     1|     31|   2.5|    2193|    2.0|\n",
      "+------+-------+------+--------+-------+\n",
      "only showing top 5 rows\n",
      "\n"
     ]
    }
   ],
   "source": [
    "joinedRatings = joinedRatings.filter('movieId < _movieId')\n",
    "joinedRatings.show(5)"
   ]
  },
  {
   "cell_type": "code",
   "execution_count": 7,
   "metadata": {
    "collapsed": true
   },
   "outputs": [],
   "source": [
    "def moviePairId(movieId, _movieId):\n",
    "    return ''.join([str(movieId),'-',str(_movieId)])\n",
    "udfMoviePairId = F.udf(moviePairId)"
   ]
  },
  {
   "cell_type": "code",
   "execution_count": 8,
   "metadata": {},
   "outputs": [
    {
     "name": "stdout",
     "output_type": "stream",
     "text": [
      "+------+-------+------+--------+-------+-----------+\n",
      "|userId|movieId|rating|_movieId|_rating|moviePairId|\n",
      "+------+-------+------+--------+-------+-----------+\n",
      "|     1|     31|   2.5|    3671|    3.0|    31-3671|\n",
      "|     1|     31|   2.5|    2968|    1.0|    31-2968|\n",
      "|     1|     31|   2.5|    2455|    2.5|    31-2455|\n",
      "|     1|     31|   2.5|    2294|    2.0|    31-2294|\n",
      "|     1|     31|   2.5|    2193|    2.0|    31-2193|\n",
      "+------+-------+------+--------+-------+-----------+\n",
      "only showing top 5 rows\n",
      "\n"
     ]
    }
   ],
   "source": [
    "joinedRatings = joinedRatings.withColumn('moviePairId', udfMoviePairId('movieId', '_movieId'))\n",
    "joinedRatings.show(5)"
   ]
  },
  {
   "cell_type": "code",
   "execution_count": 9,
   "metadata": {},
   "outputs": [
    {
     "data": {
      "text/plain": [
       "DataFrame[moviePairId: string, score: double, numPairs: bigint]"
      ]
     },
     "execution_count": 9,
     "metadata": {},
     "output_type": "execute_result"
    }
   ],
   "source": [
    "moviePairSimilarities = joinedRatings.groupBy('moviePairId').agg((F.sum(joinedRatings.rating * joinedRatings._rating)/\n",
    "                                                                  (F.sqrt(F.sum(joinedRatings.rating**2))*\n",
    "                                                                   F.sqrt(F.sum(joinedRatings._rating**2)))).alias('score'),\n",
    "                                                                F.count(joinedRatings.rating).alias('numPairs'))\n",
    "moviePairSimilarities.cache()"
   ]
  },
  {
   "cell_type": "code",
   "execution_count": 10,
   "metadata": {},
   "outputs": [
    {
     "name": "stdout",
     "output_type": "stream",
     "text": [
      "+-----------+------------------+--------+\n",
      "|moviePairId|             score|numPairs|\n",
      "+-----------+------------------+--------+\n",
      "|  1172-1293| 0.958507806456253|      17|\n",
      "|  1405-2193|0.9617497019191603|      12|\n",
      "|     10-273|0.9685067726005836|      16|\n",
      "|     50-110|0.9517990774006699|     100|\n",
      "|     62-186|0.9441628304892208|      16|\n",
      "+-----------+------------------+--------+\n",
      "only showing top 5 rows\n",
      "\n"
     ]
    }
   ],
   "source": [
    "moviePairSimilarities.show(5)"
   ]
  },
  {
   "cell_type": "code",
   "execution_count": 11,
   "metadata": {
    "collapsed": true
   },
   "outputs": [],
   "source": [
    "def getMovie1(moviePairId):\n",
    "    return moviePairId.split('-')[0]\n",
    "def getMovie2(moviePairId):\n",
    "    return moviePairId.split('-')[1]\n",
    "udfGetMovie1 = F.udf(getMovie1)\n",
    "udfGetMovie2 = F.udf(getMovie2)"
   ]
  },
  {
   "cell_type": "code",
   "execution_count": 12,
   "metadata": {
    "collapsed": true
   },
   "outputs": [],
   "source": [
    "moviePairScores = (moviePairSimilarities.withColumn('movieId', udfGetMovie1(moviePairSimilarities.moviePairId))\n",
    "                                        .withColumn('_movieId', udfGetMovie2(moviePairSimilarities.moviePairId))\n",
    "                                        .drop('moviePairId'))"
   ]
  },
  {
   "cell_type": "code",
   "execution_count": 13,
   "metadata": {
    "collapsed": true
   },
   "outputs": [],
   "source": [
    "def weightedScore(score, numPairs):\n",
    "    return score*numPairs\n",
    "udfWeightedScore = F.udf(weightedScore)"
   ]
  },
  {
   "cell_type": "code",
   "execution_count": 14,
   "metadata": {},
   "outputs": [
    {
     "name": "stdout",
     "output_type": "stream",
     "text": [
      "+------------------+--------+-------+--------+------------------+\n",
      "|             score|numPairs|movieId|_movieId|     weightedScore|\n",
      "+------------------+--------+-------+--------+------------------+\n",
      "| 0.958507806456253|      17|   1172|    1293|  16.2946327097563|\n",
      "|0.9617497019191603|      12|   1405|    2193|11.540996423029924|\n",
      "|0.9685067726005836|      16|     10|     273|15.496108361609338|\n",
      "|0.9517990774006699|     100|     50|     110|   95.179907740067|\n",
      "|0.9441628304892208|      16|     62|     186|15.106605287827533|\n",
      "+------------------+--------+-------+--------+------------------+\n",
      "only showing top 5 rows\n",
      "\n"
     ]
    }
   ],
   "source": [
    "moviePairScores = moviePairScores.withColumn('weightedScore', udfWeightedScore(moviePairScores.score, moviePairScores.numPairs))\n",
    "moviePairScores.cache()\n",
    "moviePairScores.show(5)"
   ]
  },
  {
   "cell_type": "code",
   "execution_count": 15,
   "metadata": {},
   "outputs": [
    {
     "name": "stdout",
     "output_type": "stream",
     "text": [
      "Top 10 recommendations for movies similar to Toy Story (1995)\n",
      "+-----------------------------------------------------+-----------------+------------------+--------+\n",
      "|title                                                |weightedScore    |score             |numPairs|\n",
      "+-----------------------------------------------------+-----------------+------------------+--------+\n",
      "|Toy Story 2 (1999)                                   |99.69683618780475|0.9870973879980668|101     |\n",
      "|Lord of the Rings: The Return of the King, The (2003)|99.01370257559776|0.9612980832582307|103     |\n",
      "|American Beauty (1999)                               |98.47238856397547|0.9654155741566223|102     |\n",
      "|Godfather, The (1972)                                |98.42559454806472|0.9649568092947522|102     |\n",
      "|Usual Suspects, The (1995)                           |97.37221104067706|0.9640812974324461|101     |\n",
      "|Fight Club (1999)                                    |96.81383960353611|0.9585528673617437|101     |\n",
      "|Willy Wonka & the Chocolate Factory (1971)           |96.76374759344452|0.9676374759344453|100     |\n",
      "|Beauty and the Beast (1991)                          |96.75843271615079|0.967584327161508 |100     |\n",
      "|Speed (1994)                                         |96.2176614122789 |0.962176614122789 |100     |\n",
      "|Indiana Jones and the Last Crusade (1989)            |94.93655301326092|0.9687403368700094|98      |\n",
      "+-----------------------------------------------------+-----------------+------------------+--------+\n",
      "only showing top 10 rows\n",
      "\n"
     ]
    }
   ],
   "source": [
    "targetMovieId = '1'\n",
    "targetMovieTitle = movies.where(movies.movieId == targetMovieId).take(1)[0]['title']\n",
    "print('Top 10 recommendations for movies similar to {0}'.format(targetMovieTitle))\n",
    "\n",
    "(moviePairScores.where(moviePairScores.movieId == targetMovieId)\n",
    "                .orderBy('weightedScore', ascending=False)\n",
    "                .join(movies, moviePairScores._movieId == movies.movieId)\n",
    "                .select('title', 'weightedScore', 'score', 'numPairs')\n",
    "                .show(10, truncate=False))"
   ]
  },
  {
   "cell_type": "code",
   "execution_count": 16,
   "metadata": {
    "collapsed": true
   },
   "outputs": [],
   "source": [
    "spark.stop()"
   ]
  }
 ],
 "metadata": {
  "kernelspec": {
   "display_name": "Python 3",
   "language": "python",
   "name": "python3"
  },
  "language_info": {
   "codemirror_mode": {
    "name": "ipython",
    "version": 3
   },
   "file_extension": ".py",
   "mimetype": "text/x-python",
   "name": "python",
   "nbconvert_exporter": "python",
   "pygments_lexer": "ipython3",
   "version": "3.5.2"
  }
 },
 "nbformat": 4,
 "nbformat_minor": 2
}
