{
 "cells": [
  {
   "cell_type": "markdown",
   "metadata": {},
   "source": [
    "## Find Spark\n",
    "The way my system is set up, it's not able to directly import pyspark so I had to `pip install findspark` and now I'm able to use it to find my pyspark and initiate it"
   ]
  },
  {
   "cell_type": "code",
   "execution_count": 1,
   "metadata": {
    "collapsed": true
   },
   "outputs": [],
   "source": [
    "import findspark\n",
    "findspark.init()"
   ]
  },
  {
   "cell_type": "markdown",
   "metadata": {},
   "source": [
    "Now I'm able to import pyspark"
   ]
  },
  {
   "cell_type": "code",
   "execution_count": 2,
   "metadata": {
    "collapsed": true
   },
   "outputs": [],
   "source": [
    "import pyspark\n",
    "from pyspark.sql import SparkSession"
   ]
  },
  {
   "cell_type": "markdown",
   "metadata": {},
   "source": [
    "## Start a Spark Session\n",
    "(the .config(..) part is for windows)"
   ]
  },
  {
   "cell_type": "code",
   "execution_count": 3,
   "metadata": {
    "collapsed": true
   },
   "outputs": [],
   "source": [
    "spark = SparkSession.builder.appName('PopularMovies').getOrCreate()"
   ]
  },
  {
   "cell_type": "markdown",
   "metadata": {},
   "source": [
    "## Read in the Movie Rating Data\n",
    "The data is stored in two separate csv files\n",
    "* movies.csv - Movie titles and genres\n",
    "* ratings.csv - Movie ratings by user"
   ]
  },
  {
   "cell_type": "code",
   "execution_count": 4,
   "metadata": {
    "collapsed": true
   },
   "outputs": [],
   "source": [
    "movies = spark.read.csv('ml100/movies.csv', header=True)\n",
    "ratings = spark.read.csv('ml100/ratings.csv', header=True, inferSchema=True)"
   ]
  },
  {
   "cell_type": "markdown",
   "metadata": {},
   "source": [
    "## Take a peak at the data\n",
    "movieId is the link"
   ]
  },
  {
   "cell_type": "code",
   "execution_count": 5,
   "metadata": {},
   "outputs": [
    {
     "name": "stdout",
     "output_type": "stream",
     "text": [
      "+------+-------+------+----------+\n",
      "|userId|movieId|rating| timestamp|\n",
      "+------+-------+------+----------+\n",
      "|     1|     31|   2.5|1260759144|\n",
      "|     1|   1029|   3.0|1260759179|\n",
      "|     1|   1061|   3.0|1260759182|\n",
      "|     1|   1129|   2.0|1260759185|\n",
      "|     1|   1172|   4.0|1260759205|\n",
      "+------+-------+------+----------+\n",
      "only showing top 5 rows\n",
      "\n"
     ]
    }
   ],
   "source": [
    "ratings.show(5)"
   ]
  },
  {
   "cell_type": "code",
   "execution_count": 6,
   "metadata": {},
   "outputs": [
    {
     "name": "stdout",
     "output_type": "stream",
     "text": [
      "+-------+--------------------+--------------------+\n",
      "|movieId|               title|              genres|\n",
      "+-------+--------------------+--------------------+\n",
      "|      1|    Toy Story (1995)|Adventure|Animati...|\n",
      "|      2|      Jumanji (1995)|Adventure|Childre...|\n",
      "|      3|Grumpier Old Men ...|      Comedy|Romance|\n",
      "|      4|Waiting to Exhale...|Comedy|Drama|Romance|\n",
      "|      5|Father of the Bri...|              Comedy|\n",
      "+-------+--------------------+--------------------+\n",
      "only showing top 5 rows\n",
      "\n"
     ]
    }
   ],
   "source": [
    "movies.show(5)"
   ]
  },
  {
   "cell_type": "markdown",
   "metadata": {},
   "source": [
    "## Find the Most Rated Movies\n",
    "* count the occurence of each movie in the ratings dataframe\n",
    "* order descending by count\n",
    "* show the top 10 results\n",
    "* use .cache() to persist the dataframe in memory for quick access\n",
    " * useful when accessing data repeatedly"
   ]
  },
  {
   "cell_type": "code",
   "execution_count": 7,
   "metadata": {},
   "outputs": [
    {
     "name": "stdout",
     "output_type": "stream",
     "text": [
      "+-------+-----+\n",
      "|movieId|count|\n",
      "+-------+-----+\n",
      "|    356|  341|\n",
      "|    296|  324|\n",
      "|    318|  311|\n",
      "|    593|  304|\n",
      "|    260|  291|\n",
      "|    480|  274|\n",
      "|   2571|  259|\n",
      "|      1|  247|\n",
      "|    527|  244|\n",
      "|    589|  237|\n",
      "+-------+-----+\n",
      "only showing top 10 rows\n",
      "\n"
     ]
    }
   ],
   "source": [
    "mostRated = ratings.groupBy('movieId').count().orderBy('count', ascending=False).cache()\n",
    "mostRated.show(10)"
   ]
  },
  {
   "cell_type": "markdown",
   "metadata": {},
   "source": [
    "## Now Get the Titles for the Top Movies\n",
    "* left join mostRated with movies by movieId\n",
    "* sort descending by count\n",
    "* only show the count and title columns\n",
    "* only show the top 10"
   ]
  },
  {
   "cell_type": "code",
   "execution_count": 8,
   "metadata": {},
   "outputs": [
    {
     "name": "stdout",
     "output_type": "stream",
     "text": [
      "+-------+-----+--------------------+\n",
      "|movieId|count|               title|\n",
      "+-------+-----+--------------------+\n",
      "|    356|  341| Forrest Gump (1994)|\n",
      "|    296|  324| Pulp Fiction (1994)|\n",
      "|    318|  311|Shawshank Redempt...|\n",
      "|    593|  304|Silence of the La...|\n",
      "|    260|  291|Star Wars: Episod...|\n",
      "|    480|  274|Jurassic Park (1993)|\n",
      "|   2571|  259|  Matrix, The (1999)|\n",
      "|      1|  247|    Toy Story (1995)|\n",
      "|    527|  244|Schindler's List ...|\n",
      "|    589|  237|Terminator 2: Jud...|\n",
      "+-------+-----+--------------------+\n",
      "only showing top 10 rows\n",
      "\n"
     ]
    }
   ],
   "source": [
    "#mostRated.join(movies, mostRated.movieId == movies.movieId).orderBy('count', ascending=False).select('count', 'title').show(10)\n",
    "mostRated.join(movies, 'movieId').orderBy('count', ascending=False).select('movieId', 'count', 'title').show(10)"
   ]
  },
  {
   "cell_type": "markdown",
   "metadata": {},
   "source": [
    "## Now get the Average Rating for each Movies"
   ]
  },
  {
   "cell_type": "code",
   "execution_count": 9,
   "metadata": {
    "collapsed": true
   },
   "outputs": [],
   "source": [
    "averageRatings = ratings.groupBy('movieId').mean('rating').orderBy('avg(rating)', ascending=False).cache()"
   ]
  },
  {
   "cell_type": "code",
   "execution_count": 10,
   "metadata": {},
   "outputs": [
    {
     "name": "stdout",
     "output_type": "stream",
     "text": [
      "+-------+-----------+\n",
      "|movieId|avg(rating)|\n",
      "+-------+-----------+\n",
      "|  32460|        5.0|\n",
      "|  91690|        5.0|\n",
      "|   5071|        5.0|\n",
      "|  32525|        5.0|\n",
      "|  61250|        5.0|\n",
      "+-------+-----------+\n",
      "only showing top 5 rows\n",
      "\n"
     ]
    }
   ],
   "source": [
    "averageRatings.show(5)"
   ]
  },
  {
   "cell_type": "markdown",
   "metadata": {},
   "source": [
    "Right now this doesn't mean much since there are most likely several titles with a 5 star rating but with a count of 1\n",
    "\n",
    "Let's join this with the mostRated dataframe so we have average rating and count"
   ]
  },
  {
   "cell_type": "code",
   "execution_count": 11,
   "metadata": {
    "collapsed": true
   },
   "outputs": [],
   "source": [
    "ratingsCount = mostRated.join(averageRatings, 'movieId').cache()"
   ]
  },
  {
   "cell_type": "code",
   "execution_count": 12,
   "metadata": {},
   "outputs": [
    {
     "name": "stdout",
     "output_type": "stream",
     "text": [
      "+-------+-----+------------------+\n",
      "|movieId|count|       avg(rating)|\n",
      "+-------+-----+------------------+\n",
      "|    356|  341|  4.05425219941349|\n",
      "|    296|  324| 4.256172839506172|\n",
      "|    318|  311| 4.487138263665595|\n",
      "|    593|  304|4.1381578947368425|\n",
      "|    260|  291| 4.221649484536083|\n",
      "+-------+-----+------------------+\n",
      "only showing top 5 rows\n",
      "\n"
     ]
    }
   ],
   "source": [
    "ratingsCount.show(5)"
   ]
  },
  {
   "cell_type": "markdown",
   "metadata": {},
   "source": [
    "Now that we have count and average rating together, select criteria for minimum number of ratings (50 here) and then sort by average rating descending"
   ]
  },
  {
   "cell_type": "code",
   "execution_count": 13,
   "metadata": {},
   "outputs": [
    {
     "name": "stdout",
     "output_type": "stream",
     "text": [
      "+-------+-----+------------------+\n",
      "|movieId|count|       avg(rating)|\n",
      "+-------+-----+------------------+\n",
      "|    858|  200|            4.4875|\n",
      "|    318|  311| 4.487138263665595|\n",
      "|    969|   50|              4.42|\n",
      "|    913|   62| 4.387096774193548|\n",
      "|   1221|  135| 4.385185185185185|\n",
      "|     50|  201| 4.370646766169155|\n",
      "|   1228|   50|              4.35|\n",
      "|   1252|   76|4.3355263157894735|\n",
      "|    904|   92| 4.315217391304348|\n",
      "|   1203|   74| 4.304054054054054|\n",
      "+-------+-----+------------------+\n",
      "only showing top 10 rows\n",
      "\n"
     ]
    }
   ],
   "source": [
    "top10 = ratingsCount.where(ratingsCount['count'] >= 50).orderBy('avg(rating)', ascending=False)\n",
    "top10.show(10)"
   ]
  },
  {
   "cell_type": "markdown",
   "metadata": {},
   "source": [
    "Now join with the movies dataframe to get the title"
   ]
  },
  {
   "cell_type": "code",
   "execution_count": 14,
   "metadata": {},
   "outputs": [
    {
     "name": "stdout",
     "output_type": "stream",
     "text": [
      "+-------+-----+------------------+--------------------+\n",
      "|movieId|count|       avg(rating)|               title|\n",
      "+-------+-----+------------------+--------------------+\n",
      "|    858|  200|            4.4875|Godfather, The (1...|\n",
      "|    318|  311| 4.487138263665595|Shawshank Redempt...|\n",
      "|    969|   50|              4.42|African Queen, Th...|\n",
      "|    913|   62| 4.387096774193548|Maltese Falcon, T...|\n",
      "|   1221|  135| 4.385185185185185|Godfather: Part I...|\n",
      "|     50|  201| 4.370646766169155|Usual Suspects, T...|\n",
      "|   1228|   50|              4.35|  Raging Bull (1980)|\n",
      "|   1252|   76|4.3355263157894735|    Chinatown (1974)|\n",
      "|    904|   92| 4.315217391304348|  Rear Window (1954)|\n",
      "|   1203|   74| 4.304054054054054| 12 Angry Men (1957)|\n",
      "+-------+-----+------------------+--------------------+\n",
      "only showing top 10 rows\n",
      "\n"
     ]
    }
   ],
   "source": [
    "top10.join(movies, 'movieId').select('movieId', 'count', 'avg(rating)', 'title').show(10)"
   ]
  },
  {
   "cell_type": "code",
   "execution_count": 15,
   "metadata": {
    "collapsed": true
   },
   "outputs": [],
   "source": [
    "spark.stop()"
   ]
  }
 ],
 "metadata": {
  "kernelspec": {
   "display_name": "Python 3",
   "language": "python",
   "name": "python3"
  },
  "language_info": {
   "codemirror_mode": {
    "name": "ipython",
    "version": 3
   },
   "file_extension": ".py",
   "mimetype": "text/x-python",
   "name": "python",
   "nbconvert_exporter": "python",
   "pygments_lexer": "ipython3",
   "version": "3.5.2"
  }
 },
 "nbformat": 4,
 "nbformat_minor": 2
}
